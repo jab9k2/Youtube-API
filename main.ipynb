{
 "cells": [
  {
   "cell_type": "markdown",
   "id": "30bd2f1c",
   "metadata": {},
   "source": [
    "## Summary"
   ]
  },
  {
   "cell_type": "markdown",
   "id": "03a71f09",
   "metadata": {},
   "source": [
    "The following script gathers data from the Youtube API. We will explore some basic metrics from a tech channel I'm currently subscribed to and do a bit of EDA on it's content. Unfortunately, dislikes have been disabled from public view so I will be focusing on content that is more popular. The idea is to give creators a quick overview of what topics are more popular with viewers."
   ]
  },
  {
   "cell_type": "markdown",
   "id": "d2e08810",
   "metadata": {},
   "source": [
    "## Table of Contents"
   ]
  },
  {
   "cell_type": "markdown",
   "id": "f02cf67b",
   "metadata": {},
   "source": [
    "## Imports & Constants"
   ]
  },
  {
   "cell_type": "markdown",
   "id": "7f205101",
   "metadata": {},
   "source": [
    "### Import Libs"
   ]
  },
  {
   "cell_type": "code",
   "execution_count": 118,
   "id": "e2418c58",
   "metadata": {},
   "outputs": [],
   "source": [
    "from googleapiclient.discovery import build\n",
    "import config\n",
    "import numpy as np\n",
    "import pandas as pd\n",
    "import seaborn as sns\n",
    "import requests\n",
    "import missingno as msno\n",
    "from matplotlib import rc_context\n",
    "from matplotlib import ticker as tick\n",
    "import matplotlib.pyplot as plt\n",
    "import matplotlib.dates as md\n",
    "%matplotlib inline\n",
    "import matplotlib.dates as mpl_dates\n",
    "from scipy import stats\n",
    "import datetime as dt\n",
    "import time\n",
    "from datetime import datetime\n",
    "from datetime import date\n",
    "sns.set(style=\"darkgrid\")\n",
    "import warnings\n",
    "warnings.simplefilter(\"ignore\")"
   ]
  },
  {
   "cell_type": "markdown",
   "id": "667f92ca",
   "metadata": {},
   "source": [
    "### Constants"
   ]
  },
  {
   "cell_type": "markdown",
   "id": "7a1f3a19",
   "metadata": {},
   "source": [
    "The API_KEY that I have is saved in a separate file that does not get pushed to my repo for security. If you want to run this script you'll need to create your own key via googles developer console enter it below. The CHANNEL_ID is from a popular tech channel I watch, there are tutorials out there that will explain how to get a unique content creators channel id. The youtube variable creates an API client to use with your requests."
   ]
  },
  {
   "cell_type": "code",
   "execution_count": 7,
   "id": "080c9974",
   "metadata": {},
   "outputs": [],
   "source": [
    "API_KEY = config.API_KEY\n",
    "CHANNEL_ID = 'UC0WNX0de8I1fgKUrjxiPaRA'\n",
    "youtube = build('youtube', 'v3', developerKey= API_KEY)"
   ]
  },
  {
   "cell_type": "markdown",
   "id": "3b84ffd7",
   "metadata": {},
   "source": [
    "## Fetch Data"
   ]
  },
  {
   "cell_type": "markdown",
   "id": "0d7edd2c",
   "metadata": {},
   "source": [
    "The fetch_channel_stats() method is used to gather some preliminary statistics on the channel. The request variable enables the user to query the API and returns a dictionary which is parsed. The playlist_id is what is necessary to access all the videos from the channel and has been returned as a string."
   ]
  },
  {
   "cell_type": "code",
   "execution_count": 32,
   "id": "66941200",
   "metadata": {},
   "outputs": [],
   "source": [
    "def fetch_channel_stats(youtube, CHANNEL_ID):\n",
    "   \n",
    "    request = youtube.channels().list(\n",
    "                part=\"snippet,contentDetails,statistics\",\n",
    "                id=CHANNEL_ID)\n",
    "    response = request.execute()\n",
    "    \n",
    "    for i in range(len(response['items'])):\n",
    "        data = dict(Channel_name=response['items'][i]['snippet']['title'],\n",
    "                    Subscriber = response['items'][i]['statistics']['subscriberCount'],\n",
    "                    Views = response['items'][i]['statistics']['viewCount'],\n",
    "                    Total_videos = response['items'][i]['statistics']['videoCount'],\n",
    "                    playlist_id = response['items'][i]['contentDetails']['relatedPlaylists']['uploads'])\n",
    "    #print(data)\n",
    "    return data['playlist_id']"
   ]
  },
  {
   "cell_type": "code",
   "execution_count": 34,
   "id": "fe2e434a",
   "metadata": {},
   "outputs": [],
   "source": [
    "playlist_id = fetch_channel_stats(youtube, CHANNEL_ID)"
   ]
  },
  {
   "cell_type": "markdown",
   "id": "73c12582",
   "metadata": {},
   "source": [
    "## Video ID's"
   ]
  },
  {
   "cell_type": "markdown",
   "id": "7b0a95a2",
   "metadata": {},
   "source": [
    "Retrieving the video ID's can be a bit tricky. The api only allows for the retrieval of 50 per request, but the entire list can be acquired using the nextPageToken. The initial query is written and excuted along with an empty list to store our unique id's in. If we have a look at the initial response as of today this channel has 1563 videos and the initial search gives 50 results. The nextPageToken key also holds a string value which we wiln need to save in order to construct the while loop so that we are able to run our query until all values have been saved to the video_id list. While more_pages is true the api query will execute and gather the id's 50 per query and append them until the next_page_token has no more information to retrieve."
   ]
  },
  {
   "cell_type": "code",
   "execution_count": 40,
   "id": "513982c3",
   "metadata": {},
   "outputs": [],
   "source": [
    "def get_video_ids(youtube, playlist_id):\n",
    "    request = youtube.playlistItems().list(\n",
    "                part=\"contentDetails\",\n",
    "                playlistId=playlist_id,\n",
    "                maxResults = 50)\n",
    "    response = request.execute() \n",
    "    video_ids = []\n",
    "    \n",
    "    for i in range(len(response['items'])):\n",
    "        video_ids.append(response['items'][i]['contentDetails']['videoId'])\n",
    "    \n",
    "    next_page_token = response.get('nextPageToken')\n",
    "    more_pages = True\n",
    "    \n",
    "    while more_pages:\n",
    "        if next_page_token is None:\n",
    "            more_pages = False\n",
    "        else:\n",
    "            request = youtube.playlistItems().list(\n",
    "                        part=\"contentDetails\",\n",
    "                        playlistId=playlist_id,\n",
    "                        maxResults = 50,\n",
    "                        pageToken = next_page_token)\n",
    "            response = request.execute() \n",
    "    \n",
    "            for i in range(len(response['items'])):\n",
    "                video_ids.append(response['items'][i]['contentDetails']['videoId'])\n",
    "    \n",
    "            next_page_token = response.get('nextPageToken')\n",
    "    \n",
    "    return video_ids"
   ]
  },
  {
   "cell_type": "code",
   "execution_count": 41,
   "id": "7d944f23",
   "metadata": {},
   "outputs": [],
   "source": [
    "video_ids = get_video_ids(youtube, playlist_id)"
   ]
  },
  {
   "cell_type": "markdown",
   "id": "c9e49be1",
   "metadata": {},
   "source": [
    "## Function to get video stats"
   ]
  },
  {
   "cell_type": "markdown",
   "id": "d8676e07",
   "metadata": {},
   "source": [
    "The stats we will be retrieving are title, published date, view counts, likes, and comments. \n",
    "Using the video_ids we will gather the statistics into a dictionary and append them to our list in increments of 50 per request."
   ]
  },
  {
   "cell_type": "code",
   "execution_count": 67,
   "id": "0eaa6394",
   "metadata": {},
   "outputs": [],
   "source": [
    "def get_video_details(youtube, video_ids):\n",
    "\n",
    "    all_video_stats = []\n",
    "    for i in range(0, len(video_ids), 50):\n",
    "        request = youtube.videos().list(\n",
    "                    part=\"snippet,contentDetails,statistics\",\n",
    "                    id=','.join(video_ids[i:i+50]))\n",
    "        response = request.execute()\n",
    "        \n",
    "        for video in response['items']:\n",
    "            video_stats = dict(Title= video['snippet']['title'],\n",
    "                              Published_date= video['snippet']['publishedAt'].split(\"T\")[0],\n",
    "                              Views= video['statistics']['viewCount'],\n",
    "                              Likes= video['statistics']['likeCount'],\n",
    "                              Comments= video['statistics']['commentCount'])\n",
    "            \n",
    "            all_video_stats.append(video_stats)\n",
    "    return all_video_stats"
   ]
  },
  {
   "cell_type": "code",
   "execution_count": 68,
   "id": "24d6bd4c",
   "metadata": {},
   "outputs": [],
   "source": [
    "video_details = get_video_details(youtube, video_ids)"
   ]
  },
  {
   "cell_type": "markdown",
   "id": "c330434c",
   "metadata": {},
   "source": [
    "## DataFrame"
   ]
  },
  {
   "cell_type": "markdown",
   "id": "c3cff54b",
   "metadata": {},
   "source": [
    "Now that we have our data in a manageable format it is possibe to tranform the list of dictionarys extracted via the API into a pandas DataFrame where we can do some data analysis. The code below simply imports video_details into the desired formats and recasts the data into types we can work with."
   ]
  },
  {
   "cell_type": "code",
   "execution_count": 124,
   "id": "c5b3c408",
   "metadata": {},
   "outputs": [],
   "source": [
    "video_data = pd.DataFrame(video_details)\n",
    "video_data['Published_date'] = pd.to_datetime(video_data['Published_date'], format='%Y-%m-%d')\n",
    "video_data = video_data.astype({'Views':'int64','Likes':'int64','Comments':'int64'})"
   ]
  },
  {
   "cell_type": "code",
   "execution_count": 125,
   "id": "a2689824",
   "metadata": {},
   "outputs": [
    {
     "data": {
      "text/html": [
       "<div>\n",
       "<style scoped>\n",
       "    .dataframe tbody tr th:only-of-type {\n",
       "        vertical-align: middle;\n",
       "    }\n",
       "\n",
       "    .dataframe tbody tr th {\n",
       "        vertical-align: top;\n",
       "    }\n",
       "\n",
       "    .dataframe thead th {\n",
       "        text-align: right;\n",
       "    }\n",
       "</style>\n",
       "<table border=\"1\" class=\"dataframe\">\n",
       "  <thead>\n",
       "    <tr style=\"text-align: right;\">\n",
       "      <th></th>\n",
       "      <th>Title</th>\n",
       "      <th>Published_date</th>\n",
       "      <th>Views</th>\n",
       "      <th>Likes</th>\n",
       "      <th>Comments</th>\n",
       "    </tr>\n",
       "  </thead>\n",
       "  <tbody>\n",
       "    <tr>\n",
       "      <th>0</th>\n",
       "      <td>RTX 4090 TI 900 Watts!</td>\n",
       "      <td>2022-05-01</td>\n",
       "      <td>1767</td>\n",
       "      <td>90</td>\n",
       "      <td>47</td>\n",
       "    </tr>\n",
       "    <tr>\n",
       "      <th>1</th>\n",
       "      <td>Bitcoin Hashrate Continues to Rise</td>\n",
       "      <td>2022-04-30</td>\n",
       "      <td>1013</td>\n",
       "      <td>59</td>\n",
       "      <td>36</td>\n",
       "    </tr>\n",
       "    <tr>\n",
       "      <th>2</th>\n",
       "      <td>Crypto Industry Reacts to Musk's Twitter Purchase</td>\n",
       "      <td>2022-04-30</td>\n",
       "      <td>1317</td>\n",
       "      <td>76</td>\n",
       "      <td>28</td>\n",
       "    </tr>\n",
       "    <tr>\n",
       "      <th>3</th>\n",
       "      <td>Bitcoin Miners Leverage Debt</td>\n",
       "      <td>2022-04-30</td>\n",
       "      <td>2929</td>\n",
       "      <td>112</td>\n",
       "      <td>40</td>\n",
       "    </tr>\n",
       "    <tr>\n",
       "      <th>4</th>\n",
       "      <td>The History of Bitcoin</td>\n",
       "      <td>2022-04-29</td>\n",
       "      <td>1950</td>\n",
       "      <td>134</td>\n",
       "      <td>36</td>\n",
       "    </tr>\n",
       "  </tbody>\n",
       "</table>\n",
       "</div>"
      ],
      "text/plain": [
       "                                               Title Published_date  Views  \\\n",
       "0                             RTX 4090 TI 900 Watts!     2022-05-01   1767   \n",
       "1                 Bitcoin Hashrate Continues to Rise     2022-04-30   1013   \n",
       "2  Crypto Industry Reacts to Musk's Twitter Purchase     2022-04-30   1317   \n",
       "3                       Bitcoin Miners Leverage Debt     2022-04-30   2929   \n",
       "4                             The History of Bitcoin     2022-04-29   1950   \n",
       "\n",
       "   Likes  Comments  \n",
       "0     90        47  \n",
       "1     59        36  \n",
       "2     76        28  \n",
       "3    112        40  \n",
       "4    134        36  "
      ]
     },
     "execution_count": 125,
     "metadata": {},
     "output_type": "execute_result"
    }
   ],
   "source": [
    "video_data.head()"
   ]
  },
  {
   "cell_type": "code",
   "execution_count": 126,
   "id": "3ab4a274",
   "metadata": {},
   "outputs": [
    {
     "name": "stdout",
     "output_type": "stream",
     "text": [
      "<class 'pandas.core.frame.DataFrame'>\n",
      "RangeIndex: 1563 entries, 0 to 1562\n",
      "Data columns (total 5 columns):\n",
      " #   Column          Non-Null Count  Dtype         \n",
      "---  ------          --------------  -----         \n",
      " 0   Title           1563 non-null   object        \n",
      " 1   Published_date  1563 non-null   datetime64[ns]\n",
      " 2   Views           1563 non-null   int64         \n",
      " 3   Likes           1563 non-null   int64         \n",
      " 4   Comments        1563 non-null   int64         \n",
      "dtypes: datetime64[ns](1), int64(3), object(1)\n",
      "memory usage: 61.2+ KB\n"
     ]
    }
   ],
   "source": [
    "video_data.info()"
   ]
  },
  {
   "cell_type": "code",
   "execution_count": 130,
   "id": "696b9599",
   "metadata": {},
   "outputs": [],
   "source": [
    "top10_videos = video_data.sort_values(by='Views', ascending=False).tail(10)"
   ]
  },
  {
   "cell_type": "code",
   "execution_count": 131,
   "id": "3f3efd31",
   "metadata": {
    "scrolled": false
   },
   "outputs": [
    {
     "data": {
      "text/html": [
       "<div>\n",
       "<style scoped>\n",
       "    .dataframe tbody tr th:only-of-type {\n",
       "        vertical-align: middle;\n",
       "    }\n",
       "\n",
       "    .dataframe tbody tr th {\n",
       "        vertical-align: top;\n",
       "    }\n",
       "\n",
       "    .dataframe thead th {\n",
       "        text-align: right;\n",
       "    }\n",
       "</style>\n",
       "<table border=\"1\" class=\"dataframe\">\n",
       "  <thead>\n",
       "    <tr style=\"text-align: right;\">\n",
       "      <th></th>\n",
       "      <th>Title</th>\n",
       "      <th>Published_date</th>\n",
       "      <th>Views</th>\n",
       "      <th>Likes</th>\n",
       "      <th>Comments</th>\n",
       "    </tr>\n",
       "  </thead>\n",
       "  <tbody>\n",
       "    <tr>\n",
       "      <th>1543</th>\n",
       "      <td>Pax South 2015 Vlog Part 1</td>\n",
       "      <td>2015-01-30</td>\n",
       "      <td>60</td>\n",
       "      <td>7</td>\n",
       "      <td>1</td>\n",
       "    </tr>\n",
       "    <tr>\n",
       "      <th>1544</th>\n",
       "      <td>Saints Row IV: Gat Out of Hell Impressions</td>\n",
       "      <td>2015-01-22</td>\n",
       "      <td>54</td>\n",
       "      <td>1</td>\n",
       "      <td>0</td>\n",
       "    </tr>\n",
       "    <tr>\n",
       "      <th>1540</th>\n",
       "      <td>Season 2 Hardcore Barb Death #1</td>\n",
       "      <td>2015-02-27</td>\n",
       "      <td>52</td>\n",
       "      <td>3</td>\n",
       "      <td>1</td>\n",
       "    </tr>\n",
       "    <tr>\n",
       "      <th>1535</th>\n",
       "      <td>Pax South 2015 Vlog 2: The Night Before</td>\n",
       "      <td>2015-03-06</td>\n",
       "      <td>43</td>\n",
       "      <td>2</td>\n",
       "      <td>1</td>\n",
       "    </tr>\n",
       "    <tr>\n",
       "      <th>1542</th>\n",
       "      <td>The New 3DS XL in 4:20</td>\n",
       "      <td>2015-02-21</td>\n",
       "      <td>41</td>\n",
       "      <td>4</td>\n",
       "      <td>0</td>\n",
       "    </tr>\n",
       "    <tr>\n",
       "      <th>1487</th>\n",
       "      <td>Blindrun's First Playthrough of Firewatch</td>\n",
       "      <td>2016-02-15</td>\n",
       "      <td>30</td>\n",
       "      <td>3</td>\n",
       "      <td>0</td>\n",
       "    </tr>\n",
       "    <tr>\n",
       "      <th>1547</th>\n",
       "      <td>How To Survive Impressions</td>\n",
       "      <td>2015-01-06</td>\n",
       "      <td>29</td>\n",
       "      <td>0</td>\n",
       "      <td>0</td>\n",
       "    </tr>\n",
       "    <tr>\n",
       "      <th>1493</th>\n",
       "      <td>OCZ Booth Pax South 2016</td>\n",
       "      <td>2016-02-03</td>\n",
       "      <td>26</td>\n",
       "      <td>1</td>\n",
       "      <td>0</td>\n",
       "    </tr>\n",
       "    <tr>\n",
       "      <th>1530</th>\n",
       "      <td>Blindrun Submerged Full Playthrough</td>\n",
       "      <td>2015-08-07</td>\n",
       "      <td>26</td>\n",
       "      <td>1</td>\n",
       "      <td>1</td>\n",
       "    </tr>\n",
       "    <tr>\n",
       "      <th>1537</th>\n",
       "      <td>Resident Evil Revelations 2 Review</td>\n",
       "      <td>2015-03-01</td>\n",
       "      <td>18</td>\n",
       "      <td>1</td>\n",
       "      <td>0</td>\n",
       "    </tr>\n",
       "  </tbody>\n",
       "</table>\n",
       "</div>"
      ],
      "text/plain": [
       "                                           Title Published_date  Views  Likes  \\\n",
       "1543                  Pax South 2015 Vlog Part 1     2015-01-30     60      7   \n",
       "1544  Saints Row IV: Gat Out of Hell Impressions     2015-01-22     54      1   \n",
       "1540             Season 2 Hardcore Barb Death #1     2015-02-27     52      3   \n",
       "1535     Pax South 2015 Vlog 2: The Night Before     2015-03-06     43      2   \n",
       "1542                      The New 3DS XL in 4:20     2015-02-21     41      4   \n",
       "1487   Blindrun's First Playthrough of Firewatch     2016-02-15     30      3   \n",
       "1547                  How To Survive Impressions     2015-01-06     29      0   \n",
       "1493                    OCZ Booth Pax South 2016     2016-02-03     26      1   \n",
       "1530         Blindrun Submerged Full Playthrough     2015-08-07     26      1   \n",
       "1537          Resident Evil Revelations 2 Review     2015-03-01     18      1   \n",
       "\n",
       "      Comments  \n",
       "1543         1  \n",
       "1544         0  \n",
       "1540         1  \n",
       "1535         1  \n",
       "1542         0  \n",
       "1487         0  \n",
       "1547         0  \n",
       "1493         0  \n",
       "1530         1  \n",
       "1537         0  "
      ]
     },
     "execution_count": 131,
     "metadata": {},
     "output_type": "execute_result"
    }
   ],
   "source": [
    "top10_videos"
   ]
  },
  {
   "cell_type": "code",
   "execution_count": 132,
   "id": "22fa6de7",
   "metadata": {
    "scrolled": true
   },
   "outputs": [
    {
     "data": {
      "image/png": "[encoded data removed]",
      "text/plain": [
       "<Figure size 432x288 with 1 Axes>"
      ]
     },
     "metadata": {},
     "output_type": "display_data"
    }
   ],
   "source": [
    "ax1 = sns.barplot(x='Views', y='Title', data=top10_videos)"
   ]
  },
  {
   "cell_type": "code",
   "execution_count": 125,
   "id": "b9b7e259",
   "metadata": {},
   "outputs": [],
   "source": [
    "video_data['Month'] = pd.to_datetime(video_data['Published_date']).dt.strftime('%b')"
   ]
  },
  {
   "cell_type": "code",
   "execution_count": 130,
   "id": "c7611e1d",
   "metadata": {},
   "outputs": [],
   "source": [
    "videos_per_month = video_data.groupby('Month', as_index=False).size()"
   ]
  },
  {
   "cell_type": "code",
   "execution_count": 131,
   "id": "3db858c4",
   "metadata": {},
   "outputs": [
    {
     "data": {
      "text/html": [
       "<div>\n",
       "<style scoped>\n",
       "    .dataframe tbody tr th:only-of-type {\n",
       "        vertical-align: middle;\n",
       "    }\n",
       "\n",
       "    .dataframe tbody tr th {\n",
       "        vertical-align: top;\n",
       "    }\n",
       "\n",
       "    .dataframe thead th {\n",
       "        text-align: right;\n",
       "    }\n",
       "</style>\n",
       "<table border=\"1\" class=\"dataframe\">\n",
       "  <thead>\n",
       "    <tr style=\"text-align: right;\">\n",
       "      <th></th>\n",
       "      <th>Month</th>\n",
       "      <th>size</th>\n",
       "    </tr>\n",
       "  </thead>\n",
       "  <tbody>\n",
       "    <tr>\n",
       "      <th>0</th>\n",
       "      <td>Apr</td>\n",
       "      <td>172</td>\n",
       "    </tr>\n",
       "    <tr>\n",
       "      <th>1</th>\n",
       "      <td>Aug</td>\n",
       "      <td>107</td>\n",
       "    </tr>\n",
       "    <tr>\n",
       "      <th>2</th>\n",
       "      <td>Dec</td>\n",
       "      <td>119</td>\n",
       "    </tr>\n",
       "    <tr>\n",
       "      <th>3</th>\n",
       "      <td>Feb</td>\n",
       "      <td>191</td>\n",
       "    </tr>\n",
       "    <tr>\n",
       "      <th>4</th>\n",
       "      <td>Jan</td>\n",
       "      <td>186</td>\n",
       "    </tr>\n",
       "    <tr>\n",
       "      <th>5</th>\n",
       "      <td>Jul</td>\n",
       "      <td>104</td>\n",
       "    </tr>\n",
       "    <tr>\n",
       "      <th>6</th>\n",
       "      <td>Jun</td>\n",
       "      <td>80</td>\n",
       "    </tr>\n",
       "    <tr>\n",
       "      <th>7</th>\n",
       "      <td>Mar</td>\n",
       "      <td>230</td>\n",
       "    </tr>\n",
       "    <tr>\n",
       "      <th>8</th>\n",
       "      <td>May</td>\n",
       "      <td>74</td>\n",
       "    </tr>\n",
       "    <tr>\n",
       "      <th>9</th>\n",
       "      <td>Nov</td>\n",
       "      <td>99</td>\n",
       "    </tr>\n",
       "    <tr>\n",
       "      <th>10</th>\n",
       "      <td>Oct</td>\n",
       "      <td>85</td>\n",
       "    </tr>\n",
       "    <tr>\n",
       "      <th>11</th>\n",
       "      <td>Sep</td>\n",
       "      <td>93</td>\n",
       "    </tr>\n",
       "  </tbody>\n",
       "</table>\n",
       "</div>"
      ],
      "text/plain": [
       "   Month  size\n",
       "0    Apr   172\n",
       "1    Aug   107\n",
       "2    Dec   119\n",
       "3    Feb   191\n",
       "4    Jan   186\n",
       "5    Jul   104\n",
       "6    Jun    80\n",
       "7    Mar   230\n",
       "8    May    74\n",
       "9    Nov    99\n",
       "10   Oct    85\n",
       "11   Sep    93"
      ]
     },
     "execution_count": 131,
     "metadata": {},
     "output_type": "execute_result"
    }
   ],
   "source": [
    "videos_per_month"
   ]
  },
  {
   "cell_type": "code",
   "execution_count": 132,
   "id": "03d9de29",
   "metadata": {},
   "outputs": [],
   "source": [
    "sort_order = ['Jan','Feb','Mar','Apr','May','Jun',\n",
    "             'Jul','Aug','Sep','Oct','Nov','Dec']"
   ]
  },
  {
   "cell_type": "code",
   "execution_count": 133,
   "id": "d0aa1609",
   "metadata": {},
   "outputs": [],
   "source": [
    "videos_per_month.index = pd.CategoricalIndex(videos_per_month['Month'], categories=sort_order,ordered=True)"
   ]
  },
  {
   "cell_type": "code",
   "execution_count": 135,
   "id": "fff4a163",
   "metadata": {},
   "outputs": [],
   "source": [
    "videos_per_month = videos_per_month.sort_index()"
   ]
  },
  {
   "cell_type": "code",
   "execution_count": 136,
   "id": "3c4c3659",
   "metadata": {},
   "outputs": [
    {
     "data": {
      "image/png": "[encoded data removed]",
      "text/plain": [
       "<Figure size 432x288 with 1 Axes>"
      ]
     },
     "metadata": {},
     "output_type": "display_data"
    }
   ],
   "source": [
    "ax2 = sns.barplot(x='Month', y='size', data=videos_per_month)"
   ]
  },
  {
   "cell_type": "code",
   "execution_count": null,
   "id": "3b681508",
   "metadata": {},
   "outputs": [],
   "source": []
  },
  {
   "cell_type": "code",
   "execution_count": null,
   "id": "06530a61",
   "metadata": {},
   "outputs": [],
   "source": []
  },
  {
   "cell_type": "code",
   "execution_count": null,
   "id": "65b9cfaa",
   "metadata": {},
   "outputs": [],
   "source": []
  },
  {
   "cell_type": "code",
   "execution_count": 91,
   "id": "4152af66",
   "metadata": {},
   "outputs": [
    {
     "ename": "NameError",
     "evalue": "name 'df_temp' is not defined",
     "output_type": "error",
     "traceback": [
      "\u001b[1;31m---------------------------------------------------------------------------\u001b[0m",
      "\u001b[1;31mNameError\u001b[0m                                 Traceback (most recent call last)",
      "\u001b[1;32m~\\AppData\\Local\\Temp/ipykernel_3820/2419105436.py\u001b[0m in \u001b[0;36m<module>\u001b[1;34m\u001b[0m\n\u001b[1;32m----> 1\u001b[1;33m \u001b[0mdf_temp\u001b[0m\u001b[1;33m[\u001b[0m\u001b[1;34m'Date'\u001b[0m\u001b[1;33m]\u001b[0m \u001b[1;33m=\u001b[0m \u001b[0mpd\u001b[0m\u001b[1;33m.\u001b[0m\u001b[0mto_datetime\u001b[0m\u001b[1;33m(\u001b[0m\u001b[0mdf_temp\u001b[0m\u001b[1;33m[\u001b[0m\u001b[1;34m'Date'\u001b[0m\u001b[1;33m]\u001b[0m\u001b[1;33m,\u001b[0m \u001b[0munit\u001b[0m\u001b[1;33m=\u001b[0m\u001b[1;34m's'\u001b[0m\u001b[1;33m)\u001b[0m\u001b[1;33m.\u001b[0m\u001b[0mdt\u001b[0m\u001b[1;33m.\u001b[0m\u001b[0mnormalize\u001b[0m\u001b[1;33m(\u001b[0m\u001b[1;33m)\u001b[0m\u001b[1;33m\u001b[0m\u001b[1;33m\u001b[0m\u001b[0m\n\u001b[0m\u001b[0;32m      2\u001b[0m \u001b[0mdf\u001b[0m \u001b[1;33m=\u001b[0m \u001b[0mdf_temp\u001b[0m\u001b[1;33m.\u001b[0m\u001b[0mastype\u001b[0m\u001b[1;33m(\u001b[0m\u001b[1;33m{\u001b[0m\u001b[1;34m'Views'\u001b[0m\u001b[1;33m:\u001b[0m\u001b[1;34m'int64'\u001b[0m\u001b[1;33m,\u001b[0m\u001b[1;34m'Likes'\u001b[0m\u001b[1;33m:\u001b[0m\u001b[1;34m'int64'\u001b[0m\u001b[1;33m,\u001b[0m\u001b[1;34m'Comments'\u001b[0m\u001b[1;33m:\u001b[0m\u001b[1;34m'int64'\u001b[0m\u001b[1;33m}\u001b[0m\u001b[1;33m)\u001b[0m\u001b[1;33m\u001b[0m\u001b[1;33m\u001b[0m\u001b[0m\n",
      "\u001b[1;31mNameError\u001b[0m: name 'df_temp' is not defined"
     ]
    }
   ],
   "source": [
    "df_temp['Date'] = pd.to_datetime(df_temp['Date'], unit='s').dt.normalize()\n",
    "df = df_temp.astype({'Views':'int64','Likes':'int64','Comments':'int64'})"
   ]
  },
  {
   "cell_type": "code",
   "execution_count": null,
   "id": "fa39da5d",
   "metadata": {},
   "outputs": [],
   "source": []
  },
  {
   "cell_type": "code",
   "execution_count": null,
   "id": "d3dfb9fb",
   "metadata": {},
   "outputs": [],
   "source": [
    "df = pd.DataFrame(columns=['video_id','video_title','upload_date','view_count','like_count','comment_count'])"
   ]
  },
  {
   "cell_type": "code",
   "execution_count": null,
   "id": "01abc9bf",
   "metadata": {},
   "outputs": [],
   "source": [
    "    def get_stats(video_id): \n",
    "    \n",
    "        url_video_stats = \"https://www.googleapis.com/youtube/v3/videos?id=\"+video_id+\"&part=statistics&key=\"+API_KEY\n",
    "        response_video_stats = requests.get(url_video_stats).json()\n",
    "        view_count = response_video_stats['items'][0]['statistics']['viewCount']\n",
    "        like_count = response_video_stats['items'][0]['statistics']['likeCount']\n",
    "        comment_count = response_video_stats['items'][0]['statistics']['commentCount']\n",
    "        \n",
    "        return view_count, like_count, comment_count"
   ]
  },
  {
   "cell_type": "code",
   "execution_count": null,
   "id": "edb5c327",
   "metadata": {
    "scrolled": false
   },
   "outputs": [],
   "source": [
    "def get_vids(df):\n",
    "    #make an api call\n",
    "    pageToken = \"\"\n",
    "    nextPageToken = \"\"\n",
    "    #CDIQAA\n",
    "    url = \"https://www.googleapis.com/youtube/v3/search?key=\"+API_KEY+\"&channelId=\"+CHANNEL_ID+\"&part=snippet&id&order=date&maxResults=10000&\"+pageToken\n",
    "    response = requests.get(url).json()\n",
    "    print(response)\n",
    "    time.sleep(1)\n",
    "    \n",
    "    for video in response['items']:\n",
    "        if video['id']['kind'] == 'youtube#video':\n",
    "            video_id = video['id']['videoId']\n",
    "            video_title = video['snippet']['title']\n",
    "            #video_title = str(video_title).replace(\"&amp;\",\"\") format string as necessary\n",
    "            upload_date = video['snippet']['publishedAt']\n",
    "            upload_date = str(upload_date).split(\"T\")[0]\n",
    "\n",
    "            view_count, like_count, comment_count = get_stats(video_id)\n",
    "\n",
    "            df = df.append({'video_id':video_id,'video_title':video_title,'upload_date':upload_date,\n",
    "                            'view_count':view_count,'like_count':like_count,'comment_count':comment_count}\n",
    "                             , ignore_index = True)\n",
    "    return(df)"
   ]
  },
  {
   "cell_type": "code",
   "execution_count": null,
   "id": "f2993244",
   "metadata": {},
   "outputs": [],
   "source": [
    "1586"
   ]
  },
  {
   "cell_type": "code",
   "execution_count": null,
   "id": "150c3778",
   "metadata": {
    "scrolled": true
   },
   "outputs": [],
   "source": [
    "df = get_vids(df)\n",
    "\n"
   ]
  },
  {
   "cell_type": "code",
   "execution_count": null,
   "id": "254dfdbe",
   "metadata": {
    "scrolled": false
   },
   "outputs": [],
   "source": [
    "df.info()"
   ]
  },
  {
   "cell_type": "code",
   "execution_count": null,
   "id": "8014f9a5",
   "metadata": {},
   "outputs": [],
   "source": [
    "df['upload_date'] = pd.to_datetime(df['upload_date'])"
   ]
  },
  {
   "cell_type": "code",
   "execution_count": null,
   "id": "5990c98a",
   "metadata": {
    "scrolled": true
   },
   "outputs": [],
   "source": [
    "df.info()"
   ]
  },
  {
   "cell_type": "code",
   "execution_count": null,
   "id": "3d89b7da",
   "metadata": {
    "scrolled": true
   },
   "outputs": [],
   "source": [
    "df.sort_values(by='upload_date')\n",
    "df.drop_duplicates(subset =\"video_title\", keep = False, inplace = True)"
   ]
  },
  {
   "cell_type": "code",
   "execution_count": null,
   "id": "842133c2",
   "metadata": {
    "scrolled": false
   },
   "outputs": [],
   "source": [
    "df.info()"
   ]
  },
  {
   "cell_type": "code",
   "execution_count": null,
   "id": "f549e59d",
   "metadata": {},
   "outputs": [],
   "source": [
    "def connect_to_db(host_name, dbname, port, username, password):\n",
    "    try:\n",
    "        conn = ps.connect(host= host_name, dbname= dbname, user=username, password= password, port=port)\n",
    "\n",
    "    except ps.OperationalError as e:\n",
    "        raise e\n",
    "\n",
    "    else:\n",
    "        print('Connected!')\n",
    "        \n",
    "        return conn"
   ]
  },
  {
   "cell_type": "code",
   "execution_count": null,
   "id": "2efa4091",
   "metadata": {},
   "outputs": [],
   "source": [
    "#create the table\n",
    "def create_table(curr):\n",
    "    create_table_command = (\"\"\"CREATE TABLE IF NOT EXISTS videos (\n",
    "                            video_id VARCHAR(255) PRIMARY KEY,\n",
    "                            video_title TEXT NOT NULL,\n",
    "                            upload_date DATE NOT NULL DEFAULT CURRENT_DATE,\n",
    "                            view_count INTEGER NOT NULL,\n",
    "                            like_count INTEGER NOT NULL,\n",
    "                            comment_count INTEGER NOT NULL\n",
    "                            )\"\"\")\n",
    "    curr.execute(create_table_command)"
   ]
  },
  {
   "cell_type": "code",
   "execution_count": null,
   "id": "a21ca962",
   "metadata": {},
   "outputs": [],
   "source": [
    "def check_if_video_exists(curr, video_id):\n",
    "    query= (\"\"\"SELECT video_id FROM VIDEOS WHERE video_id = %s\"\"\")\n",
    "    curr.execute(query, (video_id,))\n",
    "    \n",
    "    return curr.fetchone() is not None"
   ]
  },
  {
   "cell_type": "code",
   "execution_count": null,
   "id": "db8543de",
   "metadata": {},
   "outputs": [],
   "source": [
    "def update_row(curr, video_id, video_title, upload_date, view_count, like_count, comment_count):\n",
    "    query = (\"\"\"UPDATE videos\n",
    "            SET video_title = %s,\n",
    "                view_count = %s,\n",
    "                like_count = %s,\n",
    "                comment_count = %s\n",
    "            WHERE video_id = %s;\"\"\")\n",
    "    vars_to_update = (video_id, video_title, upload_date, view_count, like_count, comment_count)\n",
    "    curr.execute(query, vars_to_update)"
   ]
  },
  {
   "cell_type": "code",
   "execution_count": null,
   "id": "1340062b",
   "metadata": {},
   "outputs": [],
   "source": [
    "def update_db(curr,df):\n",
    "    tmp_df = pd.DataFrame(columns=['video_id','video_title','upload_date','view_count','like_count','comment_count'])\n",
    "\n",
    "    for i, row in df.iterrows():\n",
    "        if check_if_video_exists(curr, video_id):\n",
    "            update_row(curr, row['video_id'], row['video_title'], row['upload_date'], row['view_count'], row['like_count'], row['comment_count'])\n",
    "        else:\n",
    "            tmp_df = tmp_df.append(row)\n",
    "            \n",
    "    return tmp_df"
   ]
  },
  {
   "cell_type": "code",
   "execution_count": null,
   "id": "eb1f9225",
   "metadata": {},
   "outputs": [],
   "source": [
    "def insert_into_table(curr, video_id, video_title, upload_date, view_count, like_count, comment_count):\n",
    "    insert_into_videos = (\"\"\"INSERT INTO videos (video_id, video_title, upload_date, view_count, like_count, comment_count)\n",
    "                         VALUES(%s, %s,%s,%s,%s,%s);\"\"\")\n",
    "    row_to_insert = (video_id, video_title, upload_date, view_count, like_count, comment_count)\n",
    "    curr.execute(insert_into_videos, row_to_insert)"
   ]
  },
  {
   "cell_type": "code",
   "execution_count": null,
   "id": "d406c8e7",
   "metadata": {},
   "outputs": [],
   "source": [
    "def append_from_df_to_db(curr,df):\n",
    "    for i, row in df.iterrows():\n",
    "        insert_into_table(curr, row['video_id'], row['video_title'], row['upload_date'], row['view_count'], row['like_count'], row['comment_count'])"
   ]
  },
  {
   "cell_type": "code",
   "execution_count": null,
   "id": "6902e733",
   "metadata": {},
   "outputs": [],
   "source": [
    "\n",
    "#conn = None"
   ]
  },
  {
   "cell_type": "code",
   "execution_count": null,
   "id": "bd3255af",
   "metadata": {},
   "outputs": [],
   "source": [
    "conn = connect_to_db(config.DB_HOST, config.DB_NAME, config.DB_PORT, config.DB_USER, config.DB_PASS)"
   ]
  },
  {
   "cell_type": "code",
   "execution_count": null,
   "id": "2e1e1326",
   "metadata": {},
   "outputs": [],
   "source": [
    "curr = conn.cursor()"
   ]
  },
  {
   "cell_type": "code",
   "execution_count": null,
   "id": "07d87dc7",
   "metadata": {},
   "outputs": [],
   "source": [
    "create_table(curr)"
   ]
  },
  {
   "cell_type": "code",
   "execution_count": null,
   "id": "6a7fb278",
   "metadata": {},
   "outputs": [],
   "source": [
    "new_vid_df = update_db(curr,df)"
   ]
  },
  {
   "cell_type": "code",
   "execution_count": null,
   "id": "2a0ed8c1",
   "metadata": {},
   "outputs": [],
   "source": [
    "append_from_df_to_db(curr,new_vid_df)"
   ]
  },
  {
   "cell_type": "code",
   "execution_count": null,
   "id": "050bfaf3",
   "metadata": {},
   "outputs": [],
   "source": [
    "conn.commit()"
   ]
  },
  {
   "cell_type": "code",
   "execution_count": null,
   "id": "27599e39",
   "metadata": {},
   "outputs": [],
   "source": []
  },
  {
   "cell_type": "code",
   "execution_count": null,
   "id": "2ad98c0a",
   "metadata": {},
   "outputs": [],
   "source": []
  },
  {
   "cell_type": "code",
   "execution_count": null,
   "id": "23bfd63d",
   "metadata": {},
   "outputs": [],
   "source": []
  },
  {
   "cell_type": "code",
   "execution_count": null,
   "id": "44e58166",
   "metadata": {},
   "outputs": [],
   "source": []
  },
  {
   "cell_type": "code",
   "execution_count": null,
   "id": "a286c10d",
   "metadata": {
    "scrolled": true
   },
   "outputs": [],
   "source": [
    "df.head()"
   ]
  },
  {
   "cell_type": "code",
   "execution_count": null,
   "id": "a33e8621",
   "metadata": {},
   "outputs": [],
   "source": []
  },
  {
   "cell_type": "code",
   "execution_count": null,
   "id": "bc2c55df",
   "metadata": {},
   "outputs": [],
   "source": []
  }
 ],
 "metadata": {
  "kernelspec": {
   "display_name": "Python 3 (ipykernel)",
   "language": "python",
   "name": "python3"
  },
  "language_info": {
   "codemirror_mode": {
    "name": "ipython",
    "version": 3
   },
   "file_extension": ".py",
   "mimetype": "text/x-python",
   "name": "python",
   "nbconvert_exporter": "python",
   "pygments_lexer": "ipython3",
   "version": "3.9.7"
  }
 },
 "nbformat": 4,
 "nbformat_minor": 5
}
